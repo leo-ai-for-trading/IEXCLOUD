{
 "cells": [
  {
   "cell_type": "markdown",
   "metadata": {},
   "source": [
    "Let's extract Palantir Stock  data"
   ]
  },
  {
   "cell_type": "code",
   "execution_count": 1,
   "metadata": {},
   "outputs": [
    {
     "name": "stdout",
     "output_type": "stream",
     "text": [
      "date\n",
      "2020-09-30     9.50\n",
      "2020-10-01     9.46\n",
      "2020-10-02     9.20\n",
      "2020-10-05     9.03\n",
      "2020-10-06     9.90\n",
      "2020-10-07    10.00\n",
      "2020-10-08    10.00\n",
      "2020-10-09     9.95\n",
      "2020-10-12     9.89\n",
      "2020-10-13     9.47\n",
      "2020-10-14     9.34\n",
      "2020-10-15     9.91\n",
      "2020-10-16     9.71\n",
      "2020-10-19     9.57\n",
      "2020-10-20     9.27\n",
      "2020-10-21     9.20\n",
      "2020-10-22     9.68\n",
      "2020-10-23     9.49\n",
      "2020-10-26     9.95\n",
      "2020-10-27    10.95\n",
      "2020-10-28    10.85\n",
      "2020-10-29    10.75\n",
      "2020-10-30    10.13\n",
      "2020-11-02    10.54\n",
      "2020-11-03    10.50\n",
      "2020-11-04    10.72\n",
      "2020-11-05    11.88\n",
      "2020-11-06    13.83\n",
      "2020-11-09    14.67\n",
      "2020-11-10    14.00\n",
      "2020-11-11    15.96\n",
      "2020-11-12    14.58\n",
      "2020-11-13    15.80\n",
      "2020-11-16    15.93\n",
      "2020-11-17    17.85\n",
      "2020-11-18    17.90\n",
      "2020-11-19    18.98\n",
      "2020-11-20    18.15\n",
      "2020-11-23    21.04\n",
      "2020-11-24    23.82\n",
      "2020-11-25    29.05\n",
      "2020-11-27    27.66\n",
      "Name: close, dtype: float64\n"
     ]
    }
   ],
   "source": [
    "import pandas as pd\n",
    "import numpy as np\n",
    "from datetime import datetime\n",
    "from iexfinance.stocks import get_historical_data\n",
    "\n",
    "start = datetime(2020, 1, 1)\n",
    "end=datetime(2020,11,29)\n",
    "df = get_historical_data(\"PLTR\", start,end,output_format='pandas',token='YOUR TOKEN HERE')\n",
    "df=df['close']\n",
    "print(df)"
   ]
  },
  {
   "cell_type": "code",
   "execution_count": 2,
   "metadata": {},
   "outputs": [
    {
     "data": {
      "image/png": "[encoded data removed]",
      "text/plain": [
       "<Figure size 432x288 with 1 Axes>"
      ]
     },
     "metadata": {
      "needs_background": "light"
     },
     "output_type": "display_data"
    }
   ],
   "source": [
    "import matplotlib.pyplot as plt\n",
    "\n",
    "df.plot()\n",
    "plt.show()"
   ]
  },
  {
   "cell_type": "markdown",
   "metadata": {},
   "source": [
    "To obtain historical intraday data, use get_historical_intraday as follows.\n",
    "Pass an optional date to specify a date within three months prior to the current day (default is current date):"
   ]
  },
  {
   "cell_type": "code",
   "execution_count": 3,
   "metadata": {},
   "outputs": [],
   "source": [
    "from datetime import datetime\n",
    "from iexfinance.stocks import get_historical_intraday\n",
    "df=get_historical_intraday(\"PLTR\", token='YOUR TOKEN HERE',output_format='pandas')\n",
    "import tkinter as tk\n",
    "from tkinter import filedialog\n",
    "from pandas import DataFrame\n"
   ]
  },
  {
   "cell_type": "markdown",
   "metadata": {},
   "source": [
    "And now we are going to save this data into a csv file"
   ]
  },
  {
   "cell_type": "code",
   "execution_count": 4,
   "metadata": {},
   "outputs": [],
   "source": [
    "root= tk.Tk()\n",
    "\n",
    "canvas1 = tk.Canvas(root, width = 300, height = 300, bg = 'lightsteelblue2', relief = 'raised')\n",
    "canvas1.pack()\n",
    "\n",
    "def exportCSV ():\n",
    "    global df\n",
    "    \n",
    "    export_file_path = filedialog.asksaveasfilename(defaultextension='.csv')\n",
    "    df.to_csv (export_file_path, index = False, header=True)\n",
    "\n",
    "saveAsButton_CSV = tk.Button(text='Export CSV', command=exportCSV, bg='green', fg='white', font=('helvetica', 12, 'bold'))\n",
    "canvas1.create_window(150, 150, window=saveAsButton_CSV)\n",
    "\n",
    "root.mainloop()"
   ]
  },
  {
   "cell_type": "code",
   "execution_count": null,
   "metadata": {},
   "outputs": [],
   "source": []
  }
 ],
 "metadata": {
  "kernelspec": {
   "display_name": "Python 3",
   "language": "python",
   "name": "python3"
  },
  "language_info": {
   "codemirror_mode": {
    "name": "ipython",
    "version": 3
   },
   "file_extension": ".py",
   "mimetype": "text/x-python",
   "name": "python",
   "nbconvert_exporter": "python",
   "pygments_lexer": "ipython3",
   "version": "3.7.6"
  }
 },
 "nbformat": 4,
 "nbformat_minor": 4
}
